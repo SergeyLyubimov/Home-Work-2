{
 "cells": [
  {
   "cell_type": "markdown",
   "id": "d87479cb-d5a4-4d62-ae18-405c4b86c2b9",
   "metadata": {},
   "source": [
    "# Задание 1\n",
    "Напишите код на Python в среде Jupyter Notebook для решения следующей задачи.\n",
    "\n",
    "Дана переменная, в которой хранится слово из латинских букв. Напишите код, который выводит на экран:\n",
    "\n",
    "среднюю букву, если число букв в слове нечётное;\n",
    "две средних буквы, если число букв чётное."
   ]
  },
  {
   "cell_type": "code",
   "execution_count": 1,
   "id": "4b7144a7-1a5d-4fd6-b2d9-6d55eebca837",
   "metadata": {},
   "outputs": [],
   "source": [
    "def middle_letter(word):\n",
    "    if len(word) % 2 == 0:\n",
    "        return word[len(word) // 2 - 1 : (len(word) // 2) + 1]\n",
    "    return word[len(word) // 2]"
   ]
  },
  {
   "cell_type": "code",
   "execution_count": 2,
   "id": "37e506ef-d6cc-4d24-b0b4-9230a1daae71",
   "metadata": {},
   "outputs": [
    {
     "name": "stdin",
     "output_type": "stream",
     "text": [
      "Введите слово test\n"
     ]
    },
    {
     "name": "stdout",
     "output_type": "stream",
     "text": [
      "es\n"
     ]
    }
   ],
   "source": [
    "word = input(\"Введите слово\")\n",
    "\n",
    "print(middle_letter(word))"
   ]
  },
  {
   "cell_type": "code",
   "execution_count": 3,
   "id": "9ab852b3-6b3b-473f-8b83-2a3239d510c2",
   "metadata": {},
   "outputs": [
    {
     "name": "stdin",
     "output_type": "stream",
     "text": [
      "Введите слово testing\n"
     ]
    },
    {
     "name": "stdout",
     "output_type": "stream",
     "text": [
      "t\n"
     ]
    }
   ],
   "source": [
    "word = input(\"Введите слово\")\n",
    "\n",
    "print(middle_letter(word))"
   ]
  },
  {
   "cell_type": "markdown",
   "id": "a89cf340-62dc-451a-9104-f178d0a42be6",
   "metadata": {},
   "source": [
    "# Задание 2 (необязательное)\n",
    "Напишите код на Python в среде Jupyter Notebook для решения следующей задачи.\n",
    "\n",
    "Вы делаете MVP (минимально жизнеспособный продукт) dating-сервиса.\n",
    "У вас есть список юношей и девушек.\n",
    "Выдвигаем гипотезу: лучшие рекомендации получатся, если просто отсортировать имена по алфавиту и познакомить людей с одинаковыми индексами после сортировки. Но вы не будете никого знакомить, если кто-то может остаться без пары."
   ]
  },
  {
   "cell_type": "code",
   "execution_count": 4,
   "id": "03cbb26f-5247-4fff-a007-e26b127a2563",
   "metadata": {},
   "outputs": [],
   "source": [
    "def pairing(boys, girls):\n",
    "    if len(boys) != len(girls):\n",
    "        return \"Внимание, кто-то может остаться без пары.\"\n",
    "    s_boys = sorted(boys)\n",
    "    s_girls = sorted(girls)\n",
    "    pairs = []\n",
    "    for i in range(len(s_boys)):\n",
    "        pairs.append((s_boys[i], s_girls[i]))\n",
    "    return pairs"
   ]
  },
  {
   "cell_type": "code",
   "execution_count": 5,
   "id": "0462f5ed-d9e8-4004-b73c-6ef886f59cea",
   "metadata": {},
   "outputs": [],
   "source": [
    "boys = ['Peter', 'Alex', 'John', 'Arthur', 'Richard']\n",
    "girls = ['Kate', 'Liza', 'Kira', 'Emma', 'Trisha']"
   ]
  },
  {
   "cell_type": "code",
   "execution_count": 6,
   "id": "25338106-803d-4213-a4b4-86ee0b90c07e",
   "metadata": {},
   "outputs": [
    {
     "name": "stdout",
     "output_type": "stream",
     "text": [
      "Идеальные пары:\n",
      "Alex и Emma\n",
      "Arthur и Kate\n",
      "John и Kira\n",
      "Peter и Liza\n",
      "Richard и Trisha\n"
     ]
    }
   ],
   "source": [
    "print(\"Идеальные пары:\")\n",
    "pairs = pairing(boys, girls)\n",
    "if type(pairs) != str:\n",
    "    for pair in pairs:\n",
    "        print(f'{pair[0]} и {pair[1]}')\n",
    "else:\n",
    "    print(pairs)"
   ]
  },
  {
   "cell_type": "code",
   "execution_count": 7,
   "id": "3f47a663-4836-4b98-a556-1ed3991a0e3a",
   "metadata": {},
   "outputs": [],
   "source": [
    "boys = ['Peter', 'Alex', 'John', 'Arthur', 'Richard', 'Michael']\n",
    "girls = ['Kate', 'Liza', 'Kira', 'Emma', 'Trisha']"
   ]
  },
  {
   "cell_type": "code",
   "execution_count": 8,
   "id": "f6786350-4152-40b4-9a8f-fa039fdd5153",
   "metadata": {},
   "outputs": [
    {
     "name": "stdout",
     "output_type": "stream",
     "text": [
      "Идеальные пары:\n",
      "Внимание, кто-то может остаться без пары.\n"
     ]
    }
   ],
   "source": [
    "print(\"Идеальные пары:\")\n",
    "pairs = pairing(boys, girls)\n",
    "if type(pairs) != str:\n",
    "    for pair in pairs:\n",
    "        print(f'{pair[0]} и {pair[1]}')\n",
    "else:\n",
    "    print(pairs)"
   ]
  }
 ],
 "metadata": {
  "kernelspec": {
   "display_name": "Python 3 (ipykernel)",
   "language": "python",
   "name": "python3"
  },
  "language_info": {
   "codemirror_mode": {
    "name": "ipython",
    "version": 3
   },
   "file_extension": ".py",
   "mimetype": "text/x-python",
   "name": "python",
   "nbconvert_exporter": "python",
   "pygments_lexer": "ipython3",
   "version": "3.12.5"
  }
 },
 "nbformat": 4,
 "nbformat_minor": 5
}
